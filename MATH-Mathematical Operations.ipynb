{
 "cells": [
  {
   "cell_type": "code",
   "execution_count": 1,
   "id": "cd2420cf",
   "metadata": {},
   "outputs": [],
   "source": [
    "import math"
   ]
  },
  {
   "cell_type": "code",
   "execution_count": 70,
   "id": "179cd8f5",
   "metadata": {},
   "outputs": [
    {
     "name": "stdout",
     "output_type": "stream",
     "text": [
      "13\n",
      "12\n"
     ]
    }
   ],
   "source": [
    "# Returns the smallest interger grater or equal to x.\n",
    "print(math.ceil(12.598))\n",
    "#return the largest integer lessthan or equal to value\n",
    "print(math.floor(12.598))"
   ]
  },
  {
   "cell_type": "code",
   "execution_count": 104,
   "id": "e56332cc",
   "metadata": {},
   "outputs": [
    {
     "name": "stdout",
     "output_type": "stream",
     "text": [
      "combinations= 10\n",
      "permutations= 20\n"
     ]
    }
   ],
   "source": [
    "#it perfrorm the combination of given (n,r) nCr=n!/(r!*(n-r)!), used when items without repetition and without order\n",
    "print(\"combinations=\",math.comb(5,2))\n",
    "#it perfrorm the permutation of given (n,r) nPr=n!/(n-r)!, used when items without repetition and with order\n",
    "print(\"permutations=\",math.perm(5,2))"
   ]
  },
  {
   "cell_type": "code",
   "execution_count": 11,
   "id": "84a4d40d",
   "metadata": {},
   "outputs": [
    {
     "data": {
      "text/plain": [
       "-12.5"
      ]
     },
     "execution_count": 11,
     "metadata": {},
     "output_type": "execute_result"
    }
   ],
   "source": [
    "#in (x,y) it returns magnitude(value) of x and sign of y\n",
    "math.copysign(12.5,-5.6)"
   ]
  },
  {
   "cell_type": "code",
   "execution_count": 12,
   "id": "1f76b50c",
   "metadata": {},
   "outputs": [
    {
     "data": {
      "text/plain": [
       "12.56"
      ]
     },
     "execution_count": 12,
     "metadata": {},
     "output_type": "execute_result"
    }
   ],
   "source": [
    "#return the absolute value of x\n",
    "math.fabs(-12.56)"
   ]
  },
  {
   "cell_type": "code",
   "execution_count": 14,
   "id": "7c0c3a01",
   "metadata": {},
   "outputs": [
    {
     "data": {
      "text/plain": [
       "720"
      ]
     },
     "execution_count": 14,
     "metadata": {},
     "output_type": "execute_result"
    }
   ],
   "source": [
    "#return the factorila of the value\n",
    "math.factorial(6)"
   ]
  },
  {
   "cell_type": "code",
   "execution_count": 53,
   "id": "cfbf6447",
   "metadata": {},
   "outputs": [
    {
     "name": "stdout",
     "output_type": "stream",
     "text": [
      "0.9999999999999999\n"
     ]
    },
    {
     "data": {
      "text/plain": [
       "1.0"
      ]
     },
     "execution_count": 53,
     "metadata": {},
     "output_type": "execute_result"
    }
   ],
   "source": [
    "#return the accurate floating value in the iterable\n",
    "print(sum([0.1,0.1,0.1,0.1,0.1,0.1,0.1,0.1,0.1,0.1,])) #normal sum\n",
    "math.fsum([0.1,0.1,0.1,0.1,0.1,0.1,0.1,0.1,0.1,0.1,])"
   ]
  },
  {
   "cell_type": "code",
   "execution_count": 105,
   "id": "01bf5dde",
   "metadata": {},
   "outputs": [
    {
     "name": "stdout",
     "output_type": "stream",
     "text": [
      "GDC= 3\n",
      "LCM= 60\n"
     ]
    }
   ],
   "source": [
    "#return the gratest common divisor(gcd) of the\n",
    "print(\"GCD=\",math.gcd(12,30,15,60))\n",
    "#return the least common multiple(lcm) of the\n",
    "print(\"LCM=\",math.lcm(12,30,15,60))"
   ]
  },
  {
   "cell_type": "code",
   "execution_count": 56,
   "id": "5f8961d8",
   "metadata": {},
   "outputs": [
    {
     "data": {
      "text/plain": [
       "False"
      ]
     },
     "execution_count": 56,
     "metadata": {},
     "output_type": "execute_result"
    }
   ],
   "source": [
    "math.isclose(12.78,12.756)"
   ]
  },
  {
   "cell_type": "code",
   "execution_count": 57,
   "id": "5b903876",
   "metadata": {},
   "outputs": [
    {
     "name": "stdout",
     "output_type": "stream",
     "text": [
      "True\n",
      "True\n"
     ]
    }
   ],
   "source": [
    "#return TRUE if value is a finite, FALSE if value is infinite\n",
    "print(math.isfinite(0.0))\n",
    "x=1\n",
    "print(math.isfinite(x))"
   ]
  },
  {
   "cell_type": "code",
   "execution_count": 112,
   "id": "ae92e372",
   "metadata": {},
   "outputs": [
    {
     "name": "stdout",
     "output_type": "stream",
     "text": [
      "True\n",
      "True\n",
      "False\n",
      "False\n"
     ]
    }
   ],
   "source": [
    "#x=[5.26,7.8,10,math.nan]\n",
    "print(math.isnan(math.nan))\n",
    "print(math.isnan(float('nan')))\n",
    "print(math.nan==math.nan)\n",
    "print(float('nan')==float('nan'))\n",
    "#float('nan') and math.nan are not considered to equal to any other numeric values"
   ]
  },
  {
   "cell_type": "code",
   "execution_count": 51,
   "id": "7453d7e9",
   "metadata": {},
   "outputs": [
    {
     "name": "stdout",
     "output_type": "stream",
     "text": [
      "2\n",
      "2.23606797749979\n"
     ]
    }
   ],
   "source": [
    "#SQUARE ROOT\n",
    "print(math.isqrt(5))#return integral square root of the value\n",
    "print(math.sqrt(5)) #return the square root of the value"
   ]
  },
  {
   "cell_type": "code",
   "execution_count": 61,
   "id": "a2371eb1",
   "metadata": {},
   "outputs": [
    {
     "name": "stdout",
     "output_type": "stream",
     "text": [
      "(0.625, 3)\n",
      "20.0\n"
     ]
    }
   ],
   "source": [
    "print(math.frexp(5)) #return (m,e) m is a float & e is a integer such than value==m*(2**e)*0.625\n",
    "\n",
    "#it gives the inverse of a function frexp()\n",
    "print(math.ldexp(5,2)) #(x,n)  return the x*(2**n)\n"
   ]
  },
  {
   "cell_type": "code",
   "execution_count": 62,
   "id": "29c8d2d9",
   "metadata": {},
   "outputs": [
    {
     "data": {
      "text/plain": [
       "(0.6659999999999968, 52.0)"
      ]
     },
     "execution_count": 62,
     "metadata": {},
     "output_type": "execute_result"
    }
   ],
   "source": [
    "#it returns both fractional & integral part of value\n",
    "math.modf(52.666)"
   ]
  },
  {
   "cell_type": "code",
   "execution_count": 64,
   "id": "5adb50a7",
   "metadata": {},
   "outputs": [
    {
     "name": "stdout",
     "output_type": "stream",
     "text": [
      "6.000000000000001\n",
      "5.999999999999999\n",
      "5.999999999999999\n",
      "6.000000000000001\n"
     ]
    }
   ],
   "source": [
    "#in (x,y) return the next floating point value after x towards y\n",
    "print(math.nextafter(6,math.inf))\n",
    "print(math.nextafter(6,-math.inf))\n",
    "print(math.nextafter(6,0.0))\n",
    "print(math.nextafter(6,math.copysign(math.inf,6)))"
   ]
  },
  {
   "cell_type": "code",
   "execution_count": 103,
   "id": "adb5d63e",
   "metadata": {},
   "outputs": [
    {
     "name": "stdout",
     "output_type": "stream",
     "text": [
      "product= 750578400\n",
      "sum= 112.0\n"
     ]
    }
   ],
   "source": [
    "x=[12,15,18,27,6,13,10,11]\n",
    "print(\"product=\",math.prod(x,start=1)) #gives the product of all the elements\n",
    "print(\"sum=\",math.fsum(x)) #gives the fractional sum of all the elements"
   ]
  },
  {
   "cell_type": "code",
   "execution_count": 91,
   "id": "0aacb3bd",
   "metadata": {},
   "outputs": [
    {
     "name": "stdout",
     "output_type": "stream",
     "text": [
      "-0.3048106211022167\n",
      "-0.9524129804151563\n",
      "0.320040389379563\n",
      "5.710036949078421e+25\n",
      "5.710036949078421e+25\n",
      "1.0\n",
      "4.09462222433053\n",
      "4.0940666686320855\n",
      "0.0\n"
     ]
    }
   ],
   "source": [
    "#normal trignometric in radians\n",
    "print(math.sin(60))\n",
    "print(math.cos(60))\n",
    "print(math.tan(60))\n",
    "#return hyperbolic functions\n",
    "print(math.sinh(60))\n",
    "print(math.cosh(60))\n",
    "print(math.tanh(60))\n",
    "#inverse hyperbolic\n",
    "print(math.asinh(30))\n",
    "print(math.acosh(30))\n",
    "print(math.atanh(0))"
   ]
  },
  {
   "cell_type": "code",
   "execution_count": 82,
   "id": "eaecac2f",
   "metadata": {},
   "outputs": [
    {
     "name": "stdout",
     "output_type": "stream",
     "text": [
      "57.29577951308232\n",
      "0.017453292519943295\n"
     ]
    }
   ],
   "source": [
    "#angular conversions\n",
    "print(math.degrees(1)) #convert angle ffrom radians to degrees\n",
    "print(math.radians(1)) #convert angle from degrees to radians"
   ]
  },
  {
   "cell_type": "code",
   "execution_count": 92,
   "id": "61d65bbb",
   "metadata": {},
   "outputs": [
    {
     "data": {
      "text/plain": [
       "3.141592653589793"
      ]
     },
     "execution_count": 92,
     "metadata": {},
     "output_type": "execute_result"
    }
   ],
   "source": [
    "#return pi value\n",
    "math.pi"
   ]
  },
  {
   "cell_type": "code",
   "execution_count": 93,
   "id": "b6db3d7b",
   "metadata": {},
   "outputs": [
    {
     "data": {
      "text/plain": [
       "6.283185307179586"
      ]
     },
     "execution_count": 93,
     "metadata": {},
     "output_type": "execute_result"
    }
   ],
   "source": [
    "#return Tau value\n",
    "math.tau"
   ]
  },
  {
   "cell_type": "code",
   "execution_count": 97,
   "id": "49f794f8",
   "metadata": {},
   "outputs": [
    {
     "name": "stdout",
     "output_type": "stream",
     "text": [
      "inf\n",
      "-inf\n"
     ]
    }
   ],
   "source": [
    "#return Tau value\n",
    "print(math.inf)\n",
    "print(-math.inf)"
   ]
  },
  {
   "cell_type": "code",
   "execution_count": 116,
   "id": "4705ee41",
   "metadata": {},
   "outputs": [
    {
     "name": "stdout",
     "output_type": "stream",
     "text": [
      "25.0\n",
      "7.38905609893065\n",
      "7.3890560989306495\n"
     ]
    }
   ],
   "source": [
    "#(x,y) it returns thex raisedd to power y\n",
    "print(math.pow(5,2))\n",
    "#it raised to the e power (e=2.718281..) e**x\n",
    "print(math.exp(2))\n",
    "#or\n",
    "print(math.pow(math.e,2))"
   ]
  },
  {
   "cell_type": "code",
   "execution_count": 117,
   "id": "4e8c4b36",
   "metadata": {},
   "outputs": [
    {
     "name": "stdout",
     "output_type": "stream",
     "text": [
      "1.3010299956639813\n"
     ]
    }
   ],
   "source": [
    "print(math.log10(20))"
   ]
  },
  {
   "cell_type": "code",
   "execution_count": null,
   "id": "2a1a7105",
   "metadata": {},
   "outputs": [],
   "source": [
    "print(math.log2(20))\n",
    "print(math.log10(20))"
   ]
  }
 ],
 "metadata": {
  "kernelspec": {
   "display_name": "Python 3 (ipykernel)",
   "language": "python",
   "name": "python3"
  },
  "language_info": {
   "codemirror_mode": {
    "name": "ipython",
    "version": 3
   },
   "file_extension": ".py",
   "mimetype": "text/x-python",
   "name": "python",
   "nbconvert_exporter": "python",
   "pygments_lexer": "ipython3",
   "version": "3.9.13"
  }
 },
 "nbformat": 4,
 "nbformat_minor": 5
}
